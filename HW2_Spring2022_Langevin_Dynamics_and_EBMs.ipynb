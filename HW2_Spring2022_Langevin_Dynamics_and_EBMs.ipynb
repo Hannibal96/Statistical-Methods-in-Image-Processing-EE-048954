{
 "cells": [
  {
   "cell_type": "markdown",
   "metadata": {
    "id": "uXrAM0RgCgl8"
   },
   "source": [
    "# Statistical Methods in Image Processing EE-048954\n",
    "## Homework 2: Langevin Dynamics and Energy-Based Models\n",
    "### Due Date: <span style=\"color:red\">May 31, 2022</span>"
   ]
  },
  {
   "cell_type": "markdown",
   "metadata": {
    "id": "nyXv137TuOlA"
   },
   "source": [
    "###  Submission Guidelines\n",
    "\n",
    "* Submission only in **pairs** on the course website (Moodle).\n",
    "* Working environment:\n",
    "    * We encourage you to work in `Jupyter Notebook` online using <a href=\"https://colab.research.google.com/\">Google Colab</a> as it does not require any installation.\n",
    "* You should submit two **separated** files:\n",
    "    * A `.ipynb` file, with the name: `ee048954_hw2_id1_id2.ipynb` which contains your code implementations.\n",
    "    * A `.pdf` file, with the name: `ee048954_hw2_id1_id2.pdf` which is your report containing plots, answers, and discussions.\n",
    "    * **No handwritten submissions** and no other file-types (`.docx`, `.html`, ...) will be accepted."
   ]
  },
  {
   "cell_type": "markdown",
   "metadata": {
    "id": "aXYdlXNS4c6V"
   },
   "source": [
    "### Mounting your drive for saving/loading stuff"
   ]
  },
  {
   "cell_type": "code",
   "execution_count": 1,
   "metadata": {
    "colab": {
     "base_uri": "https://localhost:8080/"
    },
    "id": "VtmwdpfGMmjD",
    "outputId": "c3c57636-fb08-405f-866b-f53e34617e39"
   },
   "outputs": [],
   "source": [
    "#from google.colab import drive\n",
    "#drive.mount('/content/drive')\n",
    "# % cd /content/drive/MyDrive/temp/"
   ]
  },
  {
   "cell_type": "code",
   "execution_count": 116,
   "metadata": {},
   "outputs": [
    {
     "data": {
      "text/html": [
       "<style>.container { width:85% !important; }</style>"
      ],
      "text/plain": [
       "<IPython.core.display.HTML object>"
      ]
     },
     "metadata": {},
     "output_type": "display_data"
    }
   ],
   "source": [
    "from IPython.display import display, HTML\n",
    "display(HTML(\"<style>.container { width:85% !important; }</style>\"))"
   ]
  },
  {
   "cell_type": "markdown",
   "metadata": {
    "id": "kXPsd-7TgsCN"
   },
   "source": [
    "### Importing relevant libraries for Part I"
   ]
  },
  {
   "cell_type": "code",
   "execution_count": 2,
   "metadata": {
    "id": "XFz780qygx3J"
   },
   "outputs": [],
   "source": [
    "## Standard libraries\n",
    "import os\n",
    "import math\n",
    "import time\n",
    "import numpy as np\n",
    "import random\n",
    "import copy\n",
    "\n",
    "## Scikit-learn built-in dataset generator\n",
    "from sklearn.datasets import make_blobs\n",
    "\n",
    "## Progress bar\n",
    "import tqdm\n",
    "\n",
    "## Imports for plotting\n",
    "import matplotlib.pyplot as plt\n",
    "import matplotlib.animation as animation\n",
    "%matplotlib inline\n",
    "import matplotlib\n",
    "matplotlib.rcParams['lines.linewidth'] = 2.0\n",
    "plt.style.use('ggplot')"
   ]
  },
  {
   "cell_type": "markdown",
   "metadata": {
    "id": "6BxH6tQygjiN"
   },
   "source": [
    "## Part I: Toy 2D Dataset (10 points)"
   ]
  },
  {
   "cell_type": "markdown",
   "metadata": {
    "id": "J5mxAkCouOlE"
   },
   "source": [
    "In this homework we will look into stochastic sampling techniques that could be used to sample from energy-based models of images. But, to kick things off, we will first start with the simple toy 2D dataset comprised of 5 rotated and equally-spaced Gaussian Mixture distribution we are familiar with from HW1 with slight adjustments: \n",
    "\n",
    "<center width=\"100%\"><img src=\"https://drive.google.com/uc?id=1DUVGzms8W_u7HrVyFb1QSxeszY9cs8Nr\" width=\"800px\"></center>"
   ]
  },
  {
   "cell_type": "markdown",
   "metadata": {
    "id": "c6b-nfpauOlF"
   },
   "source": [
    "More formally, the probability density distribution considered is given by:\n",
    "\n",
    "  $$p(x;\\sigma,\\{\\mu_i\\}) = \\frac{1}{M} \\sum_{m=1}^{M} \\frac{1}{2\\pi\\sigma^2} \\exp\\left\\{-\\frac{1}{2\\sigma^2}||x-\\mu_i||^2\\right\\} ,$$\n",
    "   with $M = 5$, $\\sigma^2 = 0.1$, \n",
    "   \n",
    "   and $\\{\\mu_m\\} = 0.7 \\cdot \\{(1,0)^T , (\\cos(\\frac{2\\pi}{5}),\\sin(\\frac{2\\pi}{5}))^T , (\\cos(\\frac{4\\pi}{5}),\\sin(\\frac{4\\pi}{5}))^T , (\\cos(\\frac{6\\pi}{5}),\\sin(\\frac{6\\pi}{5}))^T , (\\cos(\\frac{8\\pi}{5}),\\sin(\\frac{8\\pi}{5}))^T\\}$.\n",
    "  \n",
    "<img src=\"https://img.icons8.com/offices/80/000000/making-notes.png\" style=\"height:30px;display:inline\\\">**<span style=\"color:red\">Task 1</span>**. Write down the analytical gradient of $\\log p(x)$ with respect to $x$. i.e. $\\nabla_x \\log p(x)$."
   ]
  },
  {
   "cell_type": "markdown",
   "metadata": {
    "id": "gHmP2Z3muOlF"
   },
   "source": [
    "$$ \\nabla_{x}\\log p(x)=\t\\frac{1}{p(x)}\\nabla_{x}p(x)\n",
    "=\t\\frac{1}{\\frac{1}{M}\\sum_{m=1}^{M}\\frac{1}{2\\pi\\sigma^{2}}e^{-\\frac{1}{2\\sigma^{2}}\\|x-\\mu_{i}\\|^{2}}}\\cdot\\frac{1}{M}\\sum_{m=1}^{M}\\frac{1}{2\\pi\\sigma^{2}}e^{-\\frac{1}{2\\sigma^{2}}\\|x-\\mu_{i}\\|^{2}}\\cdot\\left(-\\frac{1}{2\\sigma^{2}}2(x-\\mu_{i})\\right)\n",
    "=\t\\frac{1}{\\sigma^{2}}\\frac{\\sum_{m=1}^{M}e^{-\\frac{1}{2\\sigma^{2}}\\|x-\\mu_{i}\\|^{2}}(\\mu_{i}-x)}{\\sum_{m=1}^{M}e^{-\\frac{1}{2\\sigma^{2}}\\|x-\\mu_{i}\\|^{2}}} $$"
   ]
  },
  {
   "cell_type": "markdown",
   "metadata": {
    "id": "nZmt4Q3NuOlF"
   },
   "source": [
    "While this distribution can be sampeld trivially using standard techniques, here we will sample from it using Langevin Dynamics. \n",
    "\n",
    "<img src=\"https://img.icons8.com/offices/80/000000/making-notes.png\" style=\"height:30px;display:inline\\\">**<span style=\"color:red\">Task 2</span>**. Implement Langevin Dynamics for sampling from $p(x)$:\n",
    "* Initialize 1000 random 2D points $x$ i.i.d distributed according to $U[-3.0,3.0]$.\n",
    "\n",
    "* Update the points according to the Langevin Dynamics update step:\n",
    "$$x^{k+1} = x^k + \\varepsilon \\nabla \\log p(x^k) + \\sqrt{2\\varepsilon}N^k.$$\n",
    "Use $\\sqrt{2\\varepsilon}=\\frac{10}{256}$ and $N \\sim \\mathcal{N}(0,I)$.\n",
    "\n",
    "* Repeat the previous step for $K=5000$ iterations."
   ]
  },
  {
   "cell_type": "code",
   "execution_count": 3,
   "metadata": {
    "id": "WRDpt-gZuOlG"
   },
   "outputs": [],
   "source": [
    "num_samples, seed, = 1000 , 0\n",
    "np.random.seed(seed)\n",
    "angles = np.linspace(0, 2 * np.pi, 5, endpoint=False)\n",
    "centers = np.stack([0.7 * np.array([np.cos(angle), np.sin(angle)]) for angle in angles])\n",
    "real_samples = make_blobs(num_samples, centers=centers, cluster_std=np.sqrt(.1), random_state=seed, shuffle=True)[0]"
   ]
  },
  {
   "cell_type": "code",
   "execution_count": 4,
   "metadata": {
    "id": "Py3RTvuSuOlH"
   },
   "outputs": [],
   "source": [
    "def log_gradient_p_blob(x, sigma_2=0.01, mu=centers):\n",
    "    N = len(mu)\n",
    "    denominator = 0\n",
    "    for i in range(N):\n",
    "        denominator += np.exp((-1/(2*sigma_2)) * np.linalg.norm(x-mu[i], axis=1) ** 2 )\n",
    "    denominator = np.reshape(denominator, (denominator.shape[0],1))\n",
    "    \n",
    "    nominator = 0\n",
    "    for i in range(N):  \n",
    "        s = (np.exp((-1/(2*sigma_2)) * np.linalg.norm(x-mu[i], axis=1) ** 2 ))\n",
    "        d = (mu[i] - x).transpose()\n",
    "        nominator +=  s * d \n",
    "    \n",
    "    return (1/sigma_2) * nominator.transpose() / denominator"
   ]
  },
  {
   "cell_type": "code",
   "execution_count": 5,
   "metadata": {
    "id": "5gEn_bIvuOlI"
   },
   "outputs": [],
   "source": [
    "def langevin_dynamics(N=5000, S=1000, sigma_2=0.1, factored_epsilon=10/256):\n",
    "    x = np.random.uniform(low=-3, high=3, size=(S,2))\n",
    "    for i in tqdm.tqdm(range(N)):\n",
    "        x = langevin_step(x_n=x, sigma_2=sigma_2, factored_epsilon=factored_epsilon)\n",
    "        \n",
    "    return x"
   ]
  },
  {
   "cell_type": "code",
   "execution_count": 6,
   "metadata": {
    "id": "8-qmtGzyuOlI"
   },
   "outputs": [],
   "source": [
    "def langevin_step(x_n, factored_epsilon=10/256, log_gradient_p = log_gradient_p_blob, sigma_2 = 0.1):\n",
    "    noise = np.random.randn(x_n.shape[0], x_n.shape[1])\n",
    "    epsilon = (factored_epsilon ** 2) / 2\n",
    "    return x_n + epsilon * log_gradient_p(x_n, sigma_2=sigma_2) + factored_epsilon * noise"
   ]
  },
  {
   "cell_type": "code",
   "execution_count": 7,
   "metadata": {
    "id": "OmFJ9X4xuOlJ"
   },
   "outputs": [],
   "source": [
    "def plot_scatter(samples, title, group=None):\n",
    "    if group is not None:\n",
    "        plt.scatter(samples[:, 0], samples[:, 1], c=group)\n",
    "    else:\n",
    "        plt.scatter(samples[:, 0], samples[:, 1])\n",
    "    plt.title(title)\n",
    "    plt.show()    "
   ]
  },
  {
   "cell_type": "code",
   "execution_count": 8,
   "metadata": {
    "id": "XXp1_2KAuOlJ"
   },
   "outputs": [],
   "source": [
    "def sub_plot_scatter(samples_list, titles_list, width, figsize=(15,5)):\n",
    "    N = len(samples_list)\n",
    "    fig, axes = plt.subplots(1, 2, figsize=figsize)\n",
    "    rows = int(N/width)\n",
    "    \n",
    "    for i in range(rows):\n",
    "        for j in range(width):\n",
    "            idx = rows * i + j\n",
    "            if rows > 1:\n",
    "                axes[i,j] = plt.scatter(samples_list[idx][:, 0], samples_list[idx][:, 1])\n",
    "                axes[i,j].set_title(titles_list[idx])\n",
    "            else:\n",
    "                axes[idx].set_title(titles_list[idx])\n",
    "                axes[idx].scatter(samples_list[idx][:, 0], samples_list[idx][:, 1])"
   ]
  },
  {
   "cell_type": "markdown",
   "metadata": {
    "id": "tIn2zaUduOlK"
   },
   "source": [
    "<img src=\"https://img.icons8.com/offices/80/000000/making-notes.png\" style=\"height:30px;display:inline\\\">**<span style=\"color:red\">Task 3</span>**. Draw $N = 1000$ samples ${x_i}$ from $p(x)$ using the provided code lines below and compare them visually to the samples drawn using Langevin Dynamics. Present both sample types and discuss the results."
   ]
  },
  {
   "cell_type": "code",
   "execution_count": 9,
   "metadata": {
    "colab": {
     "base_uri": "https://localhost:8080/"
    },
    "id": "a3e13Y1MuOlK",
    "outputId": "f685f346-298c-43c8-db4a-46260ff2ca21"
   },
   "outputs": [
    {
     "name": "stderr",
     "output_type": "stream",
     "text": [
      "100%|█████████████████████████████████████████████████████████████████████████████| 5000/5000 [00:06<00:00, 752.86it/s]\n"
     ]
    }
   ],
   "source": [
    "x = langevin_dynamics(N=5_000, S=1_000)"
   ]
  },
  {
   "cell_type": "code",
   "execution_count": 10,
   "metadata": {
    "colab": {
     "base_uri": "https://localhost:8080/",
     "height": 337
    },
    "id": "AV9lmyt3uOlL",
    "outputId": "2bd5947c-cf0f-4a9d-b6a4-546107adce35"
   },
   "outputs": [
    {
     "data": {
      "image/png": "[encoded data removed]",
      "text/plain": [
       "<Figure size 1080x360 with 2 Axes>"
      ]
     },
     "metadata": {
      "needs_background": "light"
     },
     "output_type": "display_data"
    }
   ],
   "source": [
    "sub_plot_scatter(samples_list=[x, real_samples], titles_list=['Langevin Draw', 'Real Samples'], width=2)"
   ]
  },
  {
   "cell_type": "code",
   "execution_count": 11,
   "metadata": {
    "colab": {
     "base_uri": "https://localhost:8080/",
     "height": 355
    },
    "id": "cH2_g2u_uOlM",
    "outputId": "9f841181-31dd-41d5-cfaa-3b85ac3ba2e3"
   },
   "outputs": [
    {
     "name": "stderr",
     "output_type": "stream",
     "text": [
      "100%|█████████████████████████████████████████████████████████████████████████████| 5000/5000 [00:06<00:00, 749.93it/s]\n"
     ]
    },
    {
     "data": {
      "image/png": "[encoded data removed]",
      "text/plain": [
       "<Figure size 1080x360 with 2 Axes>"
      ]
     },
     "metadata": {
      "needs_background": "light"
     },
     "output_type": "display_data"
    }
   ],
   "source": [
    "x_2 = langevin_dynamics(N=5_000, S=1_000, sigma_2=0.01)\n",
    "real_samples_2 = make_blobs(num_samples, centers=centers, cluster_std=np.sqrt(.01), random_state=seed, shuffle=True)[0]\n",
    "sub_plot_scatter(samples_list=[x_2, real_samples_2], titles_list=['Langevin Draw', 'Real Samples'], width=2)"
   ]
  },
  {
   "cell_type": "markdown",
   "metadata": {
    "id": "gAhDzdoiuOlM"
   },
   "source": [
    "<img src=\"https://img.icons8.com/offices/80/000000/making-notes.png\" style=\"height:30px;display:inline\\\">**<span style=\"color:red\">Task 4</span>**. Repeat Tasks 2 and 3, this time with $\\sqrt{2\\varepsilon}=\\left\\{\\frac{1}{256}, \\frac{200}{256}\\right\\}$. Compare the results to Task 3, and explain the effect of $\\varepsilon$ on the resulting samples. Tip: To have a clear visual examination of the phenomenon, plot the path a sampled point goes through throughout the dynamics for different values of $\\varepsilon$."
   ]
  },
  {
   "cell_type": "code",
   "execution_count": 12,
   "metadata": {
    "colab": {
     "base_uri": "https://localhost:8080/",
     "height": 355
    },
    "id": "bQnq6T2juOlN",
    "outputId": "7286ff47-d2ad-472f-b1da-f6005c01f448"
   },
   "outputs": [
    {
     "name": "stderr",
     "output_type": "stream",
     "text": [
      "100%|█████████████████████████████████████████████████████████████████████████████| 5000/5000 [00:06<00:00, 827.06it/s]\n"
     ]
    },
    {
     "data": {
      "image/png": "[encoded data removed]",
      "text/plain": [
       "<Figure size 1080x360 with 2 Axes>"
      ]
     },
     "metadata": {
      "needs_background": "light"
     },
     "output_type": "display_data"
    }
   ],
   "source": [
    "x = langevin_dynamics(N=5_000, S=1_000, factored_epsilon=1/256)\n",
    "sub_plot_scatter(samples_list=[x, real_samples], titles_list=['Langevin Draw', 'Real Samples'], width=2)"
   ]
  },
  {
   "cell_type": "code",
   "execution_count": 13,
   "metadata": {
    "colab": {
     "base_uri": "https://localhost:8080/",
     "height": 392
    },
    "id": "-VtEnCBHuOlN",
    "outputId": "140d06fc-f3f8-4d26-99b2-87e132f7847a"
   },
   "outputs": [
    {
     "name": "stderr",
     "output_type": "stream",
     "text": [
      "  0%|                                                                                         | 0/5000 [00:00<?, ?it/s]C:\\Users\\neria\\anaconda3\\envs\\deep_learn\\lib\\site-packages\\ipykernel_launcher.py:14: RuntimeWarning: invalid value encountered in true_divide\n",
      "  \n",
      "100%|█████████████████████████████████████████████████████████████████████████████| 5000/5000 [00:05<00:00, 868.09it/s]\n"
     ]
    },
    {
     "data": {
      "image/png": "[encoded data removed]",
      "text/plain": [
       "<Figure size 1080x360 with 2 Axes>"
      ]
     },
     "metadata": {
      "needs_background": "light"
     },
     "output_type": "display_data"
    }
   ],
   "source": [
    "x = langevin_dynamics(N=5_000, S=1_000, factored_epsilon=200/256)\n",
    "sub_plot_scatter(samples_list=[x, real_samples], titles_list=['Langevin Draw', 'Real Samples'], width=2)"
   ]
  },
  {
   "cell_type": "markdown",
   "metadata": {
    "id": "B2HLLSt6uOlO"
   },
   "source": [
    "### Importing additional relevant libraries for Parts II-IV"
   ]
  },
  {
   "cell_type": "code",
   "execution_count": 14,
   "metadata": {
    "colab": {
     "base_uri": "https://localhost:8080/"
    },
    "id": "l4uDf2_KuOlO",
    "outputId": "ac5a691f-e12f-4f94-a19e-e4ef42f826e9"
   },
   "outputs": [
    {
     "name": "stdout",
     "output_type": "stream",
     "text": [
      "Using device cuda:0\n"
     ]
    }
   ],
   "source": [
    "## Useful for creating GIFs\n",
    "import imageio\n",
    "\n",
    "## PyTorch\n",
    "import torch\n",
    "import torchvision\n",
    "\n",
    "# Function for setting the seed\n",
    "def set_seed(seed):\n",
    "    random.seed(seed)\n",
    "    np.random.seed(seed)\n",
    "    torch.manual_seed(seed)\n",
    "    if torch.cuda.is_available():\n",
    "        torch.cuda.manual_seed(seed)\n",
    "        torch.cuda.manual_seed_all(seed)\n",
    "set_seed(42)\n",
    "\n",
    "# Ensure that all operations are deterministic on GPU (if used) for reproducibility\n",
    "torch.backends.cudnn.determinstic = True\n",
    "torch.backends.cudnn.benchmark = False\n",
    "\n",
    "# device to be used for Parts II-IV is preferably a GPU\n",
    "# try to change the runtime type to GPU if you can in Google Colab\n",
    "device = torch.device(\"cuda:0\") if torch.cuda.is_available() else torch.device(\"cpu\")\n",
    "print(\"Using device\", device)"
   ]
  },
  {
   "cell_type": "markdown",
   "metadata": {
    "id": "cDTnZBzDg_7i"
   },
   "source": [
    "## Part II: Langevin Dynamics (30 points) "
   ]
  },
  {
   "cell_type": "markdown",
   "metadata": {
    "id": "7XH7nDaVuOlP"
   },
   "source": [
    "### General Introduction"
   ]
  },
  {
   "cell_type": "markdown",
   "metadata": {
    "id": "WdTZwoJzCgmC"
   },
   "source": [
    "In the remainder of this exercise we will focus on sampling from an Energy Based Model (EBM) that was trained to fit the distribution $p(x)$ of the [MNIST digits dataset](http://yann.lecun.com/exdb/mnist/) (no need to download the dataset). The EBM is given in the form of a Convolutional Neural Network (CNN), and defined by\n",
    "$$ p_\\theta(x) = \\frac{1}{Z(\\theta)}e^{-E_\\theta(x)}.$$\n",
    "Specifically, the model gets an image $x$ and returns $E_\\theta(x)$, where $\\theta$ are the trained model parameters. We will use this model in order to sample new digits from the MNIST distribution. In order to do so, we will use MCMC with Langevin Dynamics."
   ]
  },
  {
   "cell_type": "markdown",
   "metadata": {
    "id": "wSPRMwecuOlQ"
   },
   "source": [
    "### Model Architecture"
   ]
  },
  {
   "cell_type": "markdown",
   "metadata": {
    "id": "WffFvrcQuOlQ"
   },
   "source": [
    "The provided class below `ResNet` implements the neural network approximating $E(x)$ with a parametric function $E_{\\theta}(x)$, and is based on the architecture from the paper [wide residual networks](https://arxiv.org/abs/1605.07146). Note that for our purposes in this exercise you **don't** need to understand this class thoroughly. You can treat this network as a black-box that accepts an image $x$ as input and returns $E_{\\theta}(x) \\approx E(x)$ as output, and can also provide us with the gradient of $E(x)$ with respect to its input using automatic differentiation, i.e. $\\nabla_x E(x)$."
   ]
  },
  {
   "cell_type": "code",
   "execution_count": 15,
   "metadata": {
    "id": "JmeRnbnnuOlQ"
   },
   "outputs": [],
   "source": [
    "# the next lines define the architecture of the model and its functionality in forward path \n",
    "# (e.g how it operates when inputting an image)\n",
    "class ResNet(torch.nn.Module):\n",
    "    def __init__(self, n_channels):\n",
    "        super().__init__()\n",
    "\n",
    "        levels_params = [\n",
    "            {'n_channels': 16, 'n_blocks': 2, 'downsample': False},\n",
    "            {'n_channels': 32, 'n_blocks': 2, 'downsample': True},\n",
    "            {'n_channels': 64, 'n_blocks': 2, 'downsample': True},\n",
    "            {'n_channels': 64, 'n_blocks': 2, 'downsample': True},\n",
    "            ]\n",
    "\n",
    "        self._el = torch.nn.ModuleDict()\n",
    "\n",
    "        self._el['in_conv'] = torch.nn.Conv2d(n_channels, 16, kernel_size=3, padding=3)\n",
    "        n_channels = 16\n",
    "\n",
    "        levels = torch.nn.ModuleList()\n",
    "        for level_params in levels_params:\n",
    "            level = torch.nn.ModuleDict()\n",
    "            res_blocks = torch.nn.ModuleList()\n",
    "\n",
    "            ## The first residual block in the level\n",
    "            res_block = torch.nn.ModuleDict()\n",
    "            n_channels_out = level_params['n_channels']\n",
    "            if level_params['downsample']:\n",
    "                res_block['shortcut_conv'] = torch.nn.Conv2d(n_channels, n_channels_out, kernel_size=2, stride=2)\n",
    "            else:\n",
    "                res_block['shortcut_conv'] = torch.nn.Conv2d(n_channels, n_channels_out, kernel_size=1)\n",
    "            res_block['conv_1'] = torch.nn.Conv2d(n_channels, n_channels_out, kernel_size=3, padding=1)\n",
    "            n_channels = n_channels_out\n",
    "            if level_params['downsample']:\n",
    "                res_block['conv_2'] = torch.nn.Conv2d(n_channels, n_channels, kernel_size=4, stride=2, padding=1)\n",
    "            else:\n",
    "                res_block['conv_2'] = torch.nn.Conv2d(n_channels, n_channels, kernel_size=3, stride=1, padding=1)\n",
    "            res_blocks.append(res_block)\n",
    "\n",
    "            ## The rest of the residual blocks in the level\n",
    "            for _ in range(level_params['n_blocks'] - 1):\n",
    "                res_block = torch.nn.ModuleDict()\n",
    "                res_block['conv_1'] = torch.nn.Conv2d(n_channels, n_channels, kernel_size=3, padding=1)\n",
    "                res_block['conv_2'] = torch.nn.Conv2d(n_channels, n_channels, kernel_size=3, padding=1)\n",
    "                res_blocks.append(res_block)\n",
    "            level['res_blocks'] = res_blocks\n",
    "            levels.append(level)\n",
    "        self._el['levels'] = levels\n",
    "\n",
    "        self._el['out_fc'] = torch.nn.Linear(n_channels, 1, bias=False)\n",
    "\n",
    "        for module in self.modules():\n",
    "            if isinstance(module, torch.nn.Conv2d):\n",
    "                torch.nn.init.xavier_uniform_(module.weight, gain=2 ** 0.5)\n",
    "                if module.bias is not None:\n",
    "                    module.bias.data.zero_()\n",
    "\n",
    "    # functionality when inputting image x to the model:\n",
    "    def forward(self, x):\n",
    "        x = self._el['in_conv'](x)\n",
    "\n",
    "        for level in self._el['levels']:\n",
    "            for res_block in level['res_blocks']:\n",
    "                shortcut = x\n",
    "                x = torch.nn.functional.leaky_relu(x, 0.2)\n",
    "                x = res_block['conv_1'](x)\n",
    "                x = torch.nn.functional.leaky_relu(x, 0.2)\n",
    "                x = res_block['conv_2'](x)\n",
    "                if 'shortcut_conv' in res_block:\n",
    "                    shortcut = res_block['shortcut_conv'](shortcut)\n",
    "                x = x + shortcut\n",
    "\n",
    "        x = torch.nn.functional.leaky_relu(x, 0.2)\n",
    "        x = x.view(x.shape[0], x.shape[1], -1).sum(dim=2)\n",
    "        x = self._el['out_fc'](x)\n",
    "\n",
    "        return x[:, 0]"
   ]
  },
  {
   "cell_type": "markdown",
   "metadata": {
    "id": "0TWpz3WQuOlR"
   },
   "source": [
    "For your convinience, we provide pre-trained model weights $\\theta^{\\star}$ on the MNIST dataset, Courtesy of Mr. Omer Yair. To instantiate the model and load the pretrained weights $\\theta^{\\star}$ from the attached file `checkpoint.pt`, you can use the following:"
   ]
  },
  {
   "cell_type": "code",
   "execution_count": 16,
   "metadata": {
    "colab": {
     "base_uri": "https://localhost:8080/"
    },
    "id": "yqydUkgtuOlS",
    "outputId": "1db0ea03-214a-4046-a958-2095055ae6f0"
   },
   "outputs": [
    {
     "data": {
      "text/plain": [
       "<All keys matched successfully>"
      ]
     },
     "execution_count": 16,
     "metadata": {},
     "output_type": "execute_result"
    }
   ],
   "source": [
    "# instantiate the class above for images with 1 channel and load it to the device (CPU/GPU)\n",
    "ebm = ResNet(n_channels=1).to(device)\n",
    "\n",
    "# transfer the model to evaluation mode (as we don't want to train it, just to use it)\n",
    "ebm.eval()\n",
    "\n",
    "# load the trained model weights/parameters from the checkpoint file\n",
    "checkpoint_path = 'checkpoint.pt'\n",
    "ebm.load_state_dict(torch.load(checkpoint_path, map_location=device))"
   ]
  },
  {
   "cell_type": "markdown",
   "metadata": {
    "id": "IX7YwU7ZuOlS"
   },
   "source": [
    "After loading the trained weights $\\theta^{\\star}$, we can feed the model with images $x$ and get their approximated energy $E_{\\theta^{\\star}}(x)$ by a simple forward pass:"
   ]
  },
  {
   "cell_type": "code",
   "execution_count": 17,
   "metadata": {
    "id": "aEYC6XA-uOlS"
   },
   "outputs": [],
   "source": [
    "# number of images to generate\n",
    "n_imgs = 30\n",
    "\n",
    "# randomly initialized 28x28x1 images with i.i.d pixels ~U[0,1]\n",
    "imgs = torch.rand((n_imgs, 1, 28, 28), device=device)\n",
    "\n",
    "# set the images to have a gradient graph so we could calculate the gradient of the model\n",
    "imgs.requires_grad_(True)\n",
    "\n",
    "# run the model: input the images x, getting as output their estimated energy E(x)\n",
    "energy = ebm(imgs)"
   ]
  },
  {
   "cell_type": "markdown",
   "metadata": {
    "id": "BrbiGhe0uOlT"
   },
   "source": [
    "To calculate the gradient of the model output $E(x)$ with respect to the input images $x$, we can use automatic differentiation because we previously set the `requires_grad_` property of the input images to `True`:"
   ]
  },
  {
   "cell_type": "code",
   "execution_count": 18,
   "metadata": {
    "id": "TDAjFwyIuOlU"
   },
   "outputs": [],
   "source": [
    "# calculates the gradient of the model: grad(E(x)) with respect to x.\n",
    "grad = torch.autograd.grad(energy.sum(), imgs)[0]"
   ]
  },
  {
   "cell_type": "markdown",
   "metadata": {
    "id": "CoP2jc0AuOlV"
   },
   "source": [
    "<img src=\"https://img.icons8.com/offices/80/000000/making-notes.png\" style=\"height:30px;display:inline\\\">**<span style=\"color:red\">Task 5</span>**. Run Langevin Dynamics for the provided EBM:\n",
    "* Initialize 30 random images of size $28\\times28$ distributed i.i.d according to $U[0,1]$.\n",
    "\n",
    "* Update the images according to the Langevin Dynamics update step:\n",
    "$$x^{k+1} = x^k + \\varepsilon \\nabla \\log p(x^k) + \\sqrt{2\\varepsilon}N^k.$$\n",
    "Use $\\sqrt{2\\varepsilon}=\\frac{2}{256}$ and $N \\sim \\mathcal{N}(0,I)$. Note that although we do not have an explicit expression for $p(x)$, but only for $E(x)$, we are still able to perform the update step, how? For calculating the gradient you can use automatic differentiation as described above.\n",
    "\n",
    "* Repeat the previous step for $K=2000$ iterations. Present the final samples and discuss the results.\n",
    "\n"
   ]
  },
  {
   "cell_type": "code",
   "execution_count": 19,
   "metadata": {
    "id": "0aPpLzlUuOlV"
   },
   "outputs": [],
   "source": [
    "def to_np(x):\n",
    "    return x.clone().cpu().detach().numpy()"
   ]
  },
  {
   "cell_type": "code",
   "execution_count": 20,
   "metadata": {
    "id": "ffADtkL_uOlV"
   },
   "outputs": [],
   "source": [
    "def mnist_langevin(imgs, K=2000, factored_epsilon = 2/256):\n",
    "    epsilon = (factored_epsilon ** 2) / 2\n",
    "    for k in tqdm.tqdm(range(K)):\n",
    "        energy = ebm(imgs)\n",
    "        grad = -torch.autograd.grad(energy.sum(), imgs)[0]\n",
    "        noise = torch.randn(imgs.shape).to(device)\n",
    "        imgs = imgs + epsilon * grad + factored_epsilon * noise\n",
    "    return imgs"
   ]
  },
  {
   "cell_type": "code",
   "execution_count": 21,
   "metadata": {
    "colab": {
     "base_uri": "https://localhost:8080/",
     "height": 302
    },
    "id": "jv-Fvo5_uOlW",
    "outputId": "5dd514cb-097f-423c-a557-f65d98b07af7"
   },
   "outputs": [
    {
     "name": "stderr",
     "output_type": "stream",
     "text": [
      "100%|██████████████████████████████████████████████████████████████████████████████| 2000/2000 [01:09<00:00, 28.97it/s]\n"
     ]
    }
   ],
   "source": [
    "n_imgs = 30\n",
    "imgs = torch.rand((n_imgs, 1, 28, 28), device=device)\n",
    "imgs.requires_grad_(True)\n",
    "imgs_ret1 = mnist_langevin(imgs=imgs, K=2000, factored_epsilon=2/256)"
   ]
  },
  {
   "cell_type": "code",
   "execution_count": 22,
   "metadata": {},
   "outputs": [
    {
     "data": {
      "text/plain": [
       "<matplotlib.image.AxesImage at 0x18893abb9e8>"
      ]
     },
     "execution_count": 22,
     "metadata": {},
     "output_type": "execute_result"
    },
    {
     "data": {
      "image/png": "[encoded data removed]",
      "text/plain": [
       "<Figure size 432x288 with 1 Axes>"
      ]
     },
     "metadata": {
      "needs_background": "light"
     },
     "output_type": "display_data"
    }
   ],
   "source": [
    "idx = np.random.choice(30)\n",
    "plt.imshow(to_np(imgs_ret1[idx][0]), cmap='gray')"
   ]
  },
  {
   "cell_type": "markdown",
   "metadata": {
    "id": "brgAdJCWuOlX"
   },
   "source": [
    "<img src=\"https://img.icons8.com/offices/80/000000/making-notes.png\" style=\"height:30px;display:inline\\\">**<span style=\"color:red\">Task 6</span>**. Repeat the previous task for $K=2000$ iterations, this time with $\\sqrt{2\\varepsilon}=\\frac{3}{256}$. Present the final samples and discuss the results comparing to the previous section."
   ]
  },
  {
   "cell_type": "code",
   "execution_count": 23,
   "metadata": {
    "colab": {
     "base_uri": "https://localhost:8080/"
    },
    "id": "iMYme3pouOlY",
    "outputId": "006552c8-e7c4-4daf-f246-128094fe84d4"
   },
   "outputs": [
    {
     "name": "stderr",
     "output_type": "stream",
     "text": [
      "100%|██████████████████████████████████████████████████████████████████████████████| 2000/2000 [01:20<00:00, 24.91it/s]\n"
     ]
    }
   ],
   "source": [
    "n_imgs = 30\n",
    "imgs = torch.rand((n_imgs, 1, 28, 28), device=device)\n",
    "imgs.requires_grad_(True)\n",
    "imgs_ret2 = mnist_langevin(imgs=imgs, K=2000, factored_epsilon=3/256)"
   ]
  },
  {
   "cell_type": "code",
   "execution_count": 24,
   "metadata": {
    "colab": {
     "base_uri": "https://localhost:8080/",
     "height": 283
    },
    "id": "pyY_w1FOzDbb",
    "outputId": "173403b4-477a-46ad-c2a8-ed7c59ab976d"
   },
   "outputs": [
    {
     "data": {
      "text/plain": [
       "<matplotlib.image.AxesImage at 0x18884822d68>"
      ]
     },
     "execution_count": 24,
     "metadata": {},
     "output_type": "execute_result"
    },
    {
     "data": {
      "image/png": "[encoded data removed]",
      "text/plain": [
       "<Figure size 432x288 with 1 Axes>"
      ]
     },
     "metadata": {
      "needs_background": "light"
     },
     "output_type": "display_data"
    }
   ],
   "source": [
    "idx = np.random.choice(30)\n",
    "plt.imshow(to_np(imgs_ret2[idx][0]), cmap='gray')"
   ]
  },
  {
   "cell_type": "markdown",
   "metadata": {
    "id": "vS4eygcruOlZ"
   },
   "source": [
    "## Part III: MALA (30 points) "
   ]
  },
  {
   "cell_type": "markdown",
   "metadata": {
    "id": "Ouv8wzYOuOlZ"
   },
   "source": [
    "We will now expand Part II into the Metropolis-Adjusted Langevin Algorithm (MALA):\n",
    "\n",
    "* Use the same initialization scheme as in Langevin Dynamics\n",
    "* use the same update step as before\n",
    "$$x^{k+1} = x^k + \\varepsilon \\nabla \\log p(x^k) + \\sqrt{2\\varepsilon}N^k,$$\n",
    "    with $\\sqrt{2\\varepsilon}=\\frac{2}{256}$ and $N \\sim \\mathcal{N}(0,I)$.\n",
    "* **Acceptance step**: accept the sample $x^{k+1}$ according to the acceptance rule:\n",
    "    * If $x^{k+1}$ is more probable than $x^k$ then accept $x^{k+1}$\n",
    "    * else, replace $x^{k+1}$ with $x^k$ with probability $\\alpha$, where\n",
    "    $$\\alpha \\triangleq \\frac{p(x^{k + 1}) q(x^k \\mid x^{k+1})}{p(x^k) q(x^{k+1}\\mid x^k)}$$\n",
    "    and\n",
    "    $$q(x'\\mid x) \\propto \\exp \\left( - \\frac{1}{4 \\varepsilon} \\| x' - x - \\varepsilon \\nabla \\log p(x) \\|_2^2 \\right).$$\n",
    "\n",
    "<img src=\"https://img.icons8.com/offices/80/000000/making-notes.png\" style=\"height:30px;display:inline\\\">**<span style=\"color:red\">Task 7</span>**. In the acceptance step of the MALA algorithm we can use $E(x)$ without explicitly knowing $p(x)$. Why?\n"
   ]
  },
  {
   "cell_type": "markdown",
   "metadata": {
    "id": "Z7HOHjvAuOla"
   },
   "source": [
    "Since the normalization factor is not affected by $x$ only by $\\theta$ the effect of $Z(\\theta)$ is neutrlized:\n",
    "$$ \\frac{P(x_{k+1})}{P(x_{k})} = \\frac{\\frac{1}{Z(\\theta)}\\cdot e^{-E_{\\theta}(x_{k+1})}}{\\frac{1}{Z(\\theta)}\\cdot e^{-E_{\\theta}(x_k)}} = e^{ {-E_{\\theta} (x_{k+1})} + {E_{\\theta} (x_{k})} } $$\n",
    "Therfore the question of $ P(x_{k+1}) > P(x_{k}) $  is equal to the question:\n",
    "$$ {E_{\\theta} (x_{k}) } > {E_{\\theta} (x_{k+1})}  $$"
   ]
  },
  {
   "cell_type": "markdown",
   "metadata": {
    "id": "jXcame5SuOla"
   },
   "source": [
    "<img src=\"https://img.icons8.com/offices/80/000000/making-notes.png\" style=\"height:30px;display:inline\\\">**<span style=\"color:red\">Task 8</span>**. Apply the MALA algorithm for $K=2000$ iterations. Present the final samples and discuss the results. "
   ]
  },
  {
   "cell_type": "code",
   "execution_count": 67,
   "metadata": {
    "id": "fWujJGAvuOla"
   },
   "outputs": [],
   "source": [
    "def mnist_mala(imgs, K=2000, factored_epsilon = 2/256):\n",
    "    epsilon = (factored_epsilon ** 2) / 2\n",
    "    \n",
    "    prev_energy = torch.tensor([1_000_000_000_000]).to(device)\n",
    "    \n",
    "    for k in tqdm.tqdm(range(K)):\n",
    "        curr_energy = ebm(imgs) # 30x1x28x28\n",
    "        curr_energy = curr_energy.sum()\n",
    "        curr_grad = torch.autograd.grad(curr_energy, imgs)[0]\n",
    "        \n",
    "        if prev_energy > curr_energy:    \n",
    "            noise = torch.randn(imgs.shape).to(device)\n",
    "            imgs = imgs - epsilon * curr_grad + factored_epsilon * noise\n",
    "\n",
    "        else:    \n",
    "            alpha = get_alpha(curr_x = imgs, prev_x=prev_imgs, \n",
    "                              curr_x_energy_grad=curr_grad, prev_x_energy_grad=prev_grad, \n",
    "                              curr_x_energy=curr_energy, prev_x_energy=prev_energy, \n",
    "                              epsilon=epsilon)\n",
    "            r = np.random.uniform()\n",
    "            if r < alpha:\n",
    "                noise = torch.randn(imgs.shape).to(device)\n",
    "                imgs = imgs - epsilon * curr_grad + factored_epsilon * noise\n",
    "            \n",
    "        prev_energy = curr_energy\n",
    "        prev_imgs = imgs.clone()\n",
    "        prev_grad = curr_grad.clone()\n",
    "    \n",
    "    return imgs"
   ]
  },
  {
   "cell_type": "markdown",
   "metadata": {},
   "source": [
    "$$ \\log\\left(p_{\\theta}(x)\\right)=\\log\\left(\\frac{1}{Z(\\theta)}e^{-E_{\\theta}(x)}\\right)=-\\log(Z(\\theta))-E_{\\theta}(x) $$\n",
    "\n",
    "$$ \\Rightarrow\\nabla_{x}\\log\\left(p_{\\theta}(x)\\right)=-\\nabla_{x}E_{\\theta}(x) $$\n",
    "\n",
    "$$ q(x'|x)\\propto e^{-\\frac{1}{4\\epsilon}\\|x'-x-\\epsilon\\nabla\\log p(x)\\|_{2}^{2}}=e^{-\\frac{1}{4\\epsilon}\\|x'-x+\\epsilon\\nabla_{x}E_{\\theta}(x)\\|_{2}^{2}} $$\n",
    "\n",
    "$$ \\Rightarrow\\frac{q(x^{k}|x^{k+1})}{q(x^{k+1}|x^{k})}=\\frac{e^{-\\frac{1}{4\\epsilon}\\|x^{k}-x^{k+1}+\\epsilon\\nabla_{x}E_{\\theta}(x^{k+1})\\|_{2}^{2}}}{e^{-\\frac{1}{4\\epsilon}\\|x^{k+1}-x^{k}+\\epsilon\\nabla_{x}E_{\\theta}(x^{k})\\|_{2}^{2}}}=e^{-\\frac{1}{4\\epsilon}\\left(\\|x^{k}-x^{k+1}+\\epsilon\\nabla_{x}E_{\\theta}(x^{k+1})\\|_{2}^{2}-\\|\\|x^{k+1}-x^{k}+\\epsilon\\nabla_{x}E_{\\theta}(x^{k})\\|_{2}^{2}\\|_{2}^{2}\\right)} $$"
   ]
  },
  {
   "cell_type": "code",
   "execution_count": 68,
   "metadata": {},
   "outputs": [],
   "source": [
    "def get_alpha(curr_x, prev_x, curr_x_energy_grad, prev_x_energy_grad, curr_x_energy, prev_x_energy, epsilon):\n",
    "    p = get_p_ratio(curr_x_energy=curr_x_energy, prev_x_energy=prev_x_energy)\n",
    "    q = get_q_ratio(curr_x=curr_x, prev_x=prev_x, curr_x_energy_grad=curr_x_energy_grad, \n",
    "                    prev_x_energy_grad=prev_x_energy_grad, epsilon=epsilon)\n",
    "    return p * q"
   ]
  },
  {
   "cell_type": "code",
   "execution_count": 69,
   "metadata": {},
   "outputs": [],
   "source": [
    "def get_p_ratio(curr_x_energy, prev_x_energy):\n",
    "    return torch.exp(-curr_x_energy + prev_x_energy)"
   ]
  },
  {
   "cell_type": "code",
   "execution_count": 70,
   "metadata": {},
   "outputs": [],
   "source": [
    "def get_q_ratio(curr_x, prev_x, curr_x_energy_grad, prev_x_energy_grad, epsilon):\n",
    "    norma_1 = torch.norm(prev_x - curr_x + epsilon * curr_x_energy_grad) ** 2\n",
    "    norma_2 = torch.norm(curr_x - prev_x + epsilon * prev_x_energy_grad) ** 2\n",
    "    return torch.exp( -(1/(4*epsilon)) * (norma_1 - norma_2) )"
   ]
  },
  {
   "cell_type": "code",
   "execution_count": 66,
   "metadata": {},
   "outputs": [
    {
     "name": "stderr",
     "output_type": "stream",
     "text": [
      "  1%|▉                                                                               | 22/2000 [00:00<01:08, 28.96it/s]"
     ]
    },
    {
     "name": "stdout",
     "output_type": "stream",
     "text": [
      "p_new < p_old and dont step\n",
      "p_new < p_old and step\n"
     ]
    },
    {
     "name": "stderr",
     "output_type": "stream",
     "text": [
      "  2%|█▏                                                                              | 31/2000 [00:01<01:12, 27.24it/s]"
     ]
    },
    {
     "name": "stdout",
     "output_type": "stream",
     "text": [
      "p_new < p_old and dont step\n",
      "p_new < p_old and step\n"
     ]
    },
    {
     "name": "stderr",
     "output_type": "stream",
     "text": [
      "  2%|█▍                                                                              | 37/2000 [00:01<01:17, 25.20it/s]"
     ]
    },
    {
     "name": "stdout",
     "output_type": "stream",
     "text": [
      "p_new < p_old and dont step\n",
      "p_new < p_old and step\n",
      "p_new < p_old and dont step\n",
      "p_new < p_old and step\n"
     ]
    },
    {
     "name": "stderr",
     "output_type": "stream",
     "text": [
      "  2%|█▉                                                                              | 47/2000 [00:01<01:14, 26.07it/s]"
     ]
    },
    {
     "name": "stdout",
     "output_type": "stream",
     "text": [
      "p_new < p_old and dont step\n",
      "p_new < p_old and step\n",
      "p_new < p_old and dont step\n",
      "p_new < p_old and step\n"
     ]
    },
    {
     "name": "stderr",
     "output_type": "stream",
     "text": [
      "  3%|██▏                                                                             | 56/2000 [00:02<01:20, 24.10it/s]"
     ]
    },
    {
     "name": "stdout",
     "output_type": "stream",
     "text": [
      "p_new < p_old and dont step\n",
      "p_new < p_old and step\n",
      "p_new < p_old and dont step\n",
      "p_new < p_old and dont step\n"
     ]
    },
    {
     "name": "stderr",
     "output_type": "stream",
     "text": [
      "  3%|██▍                                                                             | 62/2000 [00:02<01:17, 24.94it/s]"
     ]
    },
    {
     "name": "stdout",
     "output_type": "stream",
     "text": [
      "p_new < p_old and step\n",
      "p_new < p_old and dont step\n",
      "p_new < p_old and step\n"
     ]
    },
    {
     "name": "stderr",
     "output_type": "stream",
     "text": [
      "  3%|██▋                                                                             | 68/2000 [00:02<01:17, 25.01it/s]"
     ]
    },
    {
     "name": "stdout",
     "output_type": "stream",
     "text": [
      "p_new < p_old and dont step\n",
      "p_new < p_old and step\n",
      "p_new < p_old and dont step\n"
     ]
    },
    {
     "name": "stderr",
     "output_type": "stream",
     "text": [
      "  4%|██▉                                                                             | 74/2000 [00:02<01:19, 24.08it/s]"
     ]
    },
    {
     "name": "stdout",
     "output_type": "stream",
     "text": [
      "p_new < p_old and step\n",
      "p_new < p_old and dont step\n",
      "p_new < p_old and step\n"
     ]
    },
    {
     "name": "stderr",
     "output_type": "stream",
     "text": [
      "  4%|███▏                                                                            | 80/2000 [00:03<01:24, 22.60it/s]"
     ]
    },
    {
     "name": "stdout",
     "output_type": "stream",
     "text": [
      "p_new < p_old and dont step\n",
      "p_new < p_old and step\n",
      "p_new < p_old and dont step\n"
     ]
    },
    {
     "name": "stderr",
     "output_type": "stream",
     "text": [
      "\r",
      "  4%|███▎                                                                            | 83/2000 [00:03<01:29, 21.47it/s]"
     ]
    },
    {
     "name": "stdout",
     "output_type": "stream",
     "text": [
      "p_new < p_old and step\n",
      "p_new < p_old and dont step\n"
     ]
    },
    {
     "name": "stderr",
     "output_type": "stream",
     "text": [
      "  4%|███▌                                                                            | 89/2000 [00:03<01:36, 19.78it/s]"
     ]
    },
    {
     "name": "stdout",
     "output_type": "stream",
     "text": [
      "p_new < p_old and step\n",
      "p_new < p_old and dont step\n",
      "p_new < p_old and step\n"
     ]
    },
    {
     "name": "stderr",
     "output_type": "stream",
     "text": [
      "  5%|███▉                                                                            | 98/2000 [00:04<01:27, 21.67it/s]"
     ]
    },
    {
     "name": "stdout",
     "output_type": "stream",
     "text": [
      "p_new < p_old and dont step\n",
      "p_new < p_old and step\n",
      "p_new < p_old and dont step\n",
      "p_new < p_old and step\n"
     ]
    },
    {
     "name": "stderr",
     "output_type": "stream",
     "text": [
      "  5%|████                                                                           | 104/2000 [00:04<01:19, 23.75it/s]"
     ]
    },
    {
     "name": "stdout",
     "output_type": "stream",
     "text": [
      "p_new < p_old and dont step\n",
      "p_new < p_old and step\n",
      "p_new < p_old and dont step\n"
     ]
    },
    {
     "name": "stderr",
     "output_type": "stream",
     "text": [
      "  6%|████▎                                                                          | 110/2000 [00:04<01:14, 25.54it/s]"
     ]
    },
    {
     "name": "stdout",
     "output_type": "stream",
     "text": [
      "p_new < p_old and step\n",
      "p_new < p_old and dont step\n",
      "p_new < p_old and step\n",
      "p_new < p_old and dont step\n",
      "p_new < p_old and step\n"
     ]
    },
    {
     "name": "stderr",
     "output_type": "stream",
     "text": [
      "  6%|████▌                                                                          | 116/2000 [00:04<01:15, 24.89it/s]"
     ]
    },
    {
     "name": "stdout",
     "output_type": "stream",
     "text": [
      "p_new < p_old and dont step\n",
      "p_new < p_old and step\n",
      "p_new < p_old and dont step\n",
      "p_new < p_old and step\n"
     ]
    },
    {
     "name": "stderr",
     "output_type": "stream",
     "text": [
      "\r",
      "  6%|████▋                                                                          | 119/2000 [00:04<01:15, 24.88it/s]"
     ]
    },
    {
     "name": "stdout",
     "output_type": "stream",
     "text": [
      "p_new < p_old and dont step\n",
      "p_new < p_old and step\n",
      "p_new < p_old and dont step\n",
      "p_new < p_old and step\n"
     ]
    },
    {
     "name": "stderr",
     "output_type": "stream",
     "text": [
      "  6%|████▉                                                                          | 125/2000 [00:05<01:18, 23.88it/s]"
     ]
    },
    {
     "name": "stdout",
     "output_type": "stream",
     "text": [
      "p_new < p_old and dont step\n",
      "p_new < p_old and step\n",
      "p_new < p_old and dont step\n"
     ]
    },
    {
     "name": "stderr",
     "output_type": "stream",
     "text": [
      "  7%|█████▏                                                                         | 131/2000 [00:05<01:27, 21.39it/s]"
     ]
    },
    {
     "name": "stdout",
     "output_type": "stream",
     "text": [
      "p_new < p_old and step\n",
      "p_new < p_old and dont step\n",
      "p_new < p_old and step\n"
     ]
    },
    {
     "name": "stderr",
     "output_type": "stream",
     "text": [
      "  7%|█████▍                                                                         | 137/2000 [00:05<01:30, 20.53it/s]"
     ]
    },
    {
     "name": "stdout",
     "output_type": "stream",
     "text": [
      "p_new < p_old and dont step\n",
      "p_new < p_old and step\n"
     ]
    },
    {
     "name": "stderr",
     "output_type": "stream",
     "text": [
      "  7%|█████▌                                                                         | 142/2000 [00:06<01:49, 16.91it/s]"
     ]
    },
    {
     "name": "stdout",
     "output_type": "stream",
     "text": [
      "p_new < p_old and dont step\n",
      "p_new < p_old and step\n",
      "p_new < p_old and dont step\n"
     ]
    },
    {
     "name": "stderr",
     "output_type": "stream",
     "text": [
      "\r",
      "  7%|█████▋                                                                         | 144/2000 [00:06<01:56, 15.96it/s]"
     ]
    },
    {
     "name": "stdout",
     "output_type": "stream",
     "text": [
      "p_new < p_old and step\n",
      "p_new < p_old and dont step\n",
      "p_new < p_old and step\n"
     ]
    },
    {
     "name": "stderr",
     "output_type": "stream",
     "text": [
      "  8%|█████▉                                                                         | 150/2000 [00:06<01:48, 17.09it/s]"
     ]
    },
    {
     "name": "stdout",
     "output_type": "stream",
     "text": [
      "p_new < p_old and dont step\n",
      "p_new < p_old and step\n",
      "p_new < p_old and dont step\n"
     ]
    },
    {
     "name": "stderr",
     "output_type": "stream",
     "text": [
      "\r",
      "  8%|██████                                                                         | 152/2000 [00:06<01:59, 15.47it/s]"
     ]
    },
    {
     "name": "stdout",
     "output_type": "stream",
     "text": [
      "p_new < p_old and step\n",
      "p_new < p_old and dont step\n"
     ]
    },
    {
     "name": "stderr",
     "output_type": "stream",
     "text": [
      "  8%|██████▏                                                                        | 156/2000 [00:06<02:04, 14.79it/s]"
     ]
    },
    {
     "name": "stdout",
     "output_type": "stream",
     "text": [
      "p_new < p_old and step\n",
      "p_new < p_old and dont step\n"
     ]
    },
    {
     "name": "stderr",
     "output_type": "stream",
     "text": [
      "\r",
      "  8%|██████▏                                                                        | 158/2000 [00:07<02:00, 15.24it/s]"
     ]
    },
    {
     "name": "stdout",
     "output_type": "stream",
     "text": [
      "p_new < p_old and step\n",
      "p_new < p_old and dont step\n",
      "p_new < p_old and step\n"
     ]
    },
    {
     "name": "stderr",
     "output_type": "stream",
     "text": [
      "  8%|██████▌                                                                        | 166/2000 [00:07<01:44, 17.62it/s]"
     ]
    },
    {
     "name": "stdout",
     "output_type": "stream",
     "text": [
      "p_new < p_old and dont step\n",
      "p_new < p_old and step\n",
      "p_new < p_old and dont step\n"
     ]
    },
    {
     "name": "stderr",
     "output_type": "stream",
     "text": [
      "  8%|██████▋                                                                        | 170/2000 [00:07<01:55, 15.91it/s]"
     ]
    },
    {
     "name": "stdout",
     "output_type": "stream",
     "text": [
      "p_new < p_old and step\n"
     ]
    },
    {
     "name": "stderr",
     "output_type": "stream",
     "text": [
      "  9%|██████▊                                                                        | 174/2000 [00:08<02:09, 14.06it/s]"
     ]
    },
    {
     "name": "stdout",
     "output_type": "stream",
     "text": [
      "p_new < p_old and dont step\n",
      "p_new < p_old and step\n",
      "p_new < p_old and dont step\n",
      "p_new < p_old and step\n"
     ]
    },
    {
     "name": "stderr",
     "output_type": "stream",
     "text": [
      "  9%|███████                                                                        | 180/2000 [00:08<02:17, 13.25it/s]"
     ]
    },
    {
     "name": "stdout",
     "output_type": "stream",
     "text": [
      "p_new < p_old and dont step\n",
      "p_new < p_old and step\n"
     ]
    },
    {
     "name": "stderr",
     "output_type": "stream",
     "text": [
      "  9%|███████▎                                                                       | 186/2000 [00:08<01:59, 15.14it/s]"
     ]
    },
    {
     "name": "stdout",
     "output_type": "stream",
     "text": [
      "p_new < p_old and dont step\n",
      "p_new < p_old and step\n",
      "p_new < p_old and dont step\n"
     ]
    },
    {
     "name": "stderr",
     "output_type": "stream",
     "text": [
      "\r",
      "  9%|███████▍                                                                       | 188/2000 [00:09<02:04, 14.53it/s]"
     ]
    },
    {
     "name": "stdout",
     "output_type": "stream",
     "text": [
      "p_new < p_old and step\n",
      "p_new < p_old and dont step\n"
     ]
    },
    {
     "name": "stderr",
     "output_type": "stream",
     "text": [
      " 10%|███████▌                                                                       | 192/2000 [00:09<02:03, 14.61it/s]"
     ]
    },
    {
     "name": "stdout",
     "output_type": "stream",
     "text": [
      "p_new < p_old and step\n",
      "p_new < p_old and dont step\n",
      "p_new < p_old and step\n"
     ]
    },
    {
     "name": "stderr",
     "output_type": "stream",
     "text": [
      " 10%|███████▉                                                                       | 201/2000 [00:09<01:39, 18.04it/s]"
     ]
    },
    {
     "name": "stdout",
     "output_type": "stream",
     "text": [
      "p_new < p_old and dont step\n",
      "p_new < p_old and step\n",
      "p_new < p_old and dont step\n",
      "p_new < p_old and step\n"
     ]
    },
    {
     "name": "stderr",
     "output_type": "stream",
     "text": [
      "\r",
      " 10%|████████                                                                       | 204/2000 [00:10<01:32, 19.40it/s]"
     ]
    },
    {
     "name": "stdout",
     "output_type": "stream",
     "text": [
      "p_new < p_old and dont step\n",
      "p_new < p_old and step\n",
      "p_new < p_old and dont step\n",
      "p_new < p_old and step\n"
     ]
    },
    {
     "name": "stderr",
     "output_type": "stream",
     "text": [
      " 10%|████████▎                                                                      | 210/2000 [00:10<01:27, 20.35it/s]"
     ]
    },
    {
     "name": "stdout",
     "output_type": "stream",
     "text": [
      "p_new < p_old and dont step\n",
      "p_new < p_old and step\n",
      "p_new < p_old and dont step\n",
      "p_new < p_old and step\n"
     ]
    },
    {
     "name": "stderr",
     "output_type": "stream",
     "text": [
      " 11%|████████▌                                                                      | 216/2000 [00:10<01:17, 23.00it/s]"
     ]
    },
    {
     "name": "stdout",
     "output_type": "stream",
     "text": [
      "p_new < p_old and dont step\n",
      "p_new < p_old and step\n",
      "p_new < p_old and dont step\n"
     ]
    },
    {
     "name": "stderr",
     "output_type": "stream",
     "text": [
      " 11%|████████▊                                                                      | 222/2000 [00:10<01:15, 23.43it/s]"
     ]
    },
    {
     "name": "stdout",
     "output_type": "stream",
     "text": [
      "p_new < p_old and step\n",
      "p_new < p_old and dont step\n",
      "p_new < p_old and step\n",
      "p_new < p_old and dont step\n",
      "p_new < p_old and step\n"
     ]
    },
    {
     "name": "stderr",
     "output_type": "stream",
     "text": [
      " 11%|█████████                                                                      | 228/2000 [00:11<01:14, 23.90it/s]"
     ]
    },
    {
     "name": "stdout",
     "output_type": "stream",
     "text": [
      "p_new < p_old and dont step\n",
      "p_new < p_old and step\n",
      "p_new < p_old and dont step\n",
      "p_new < p_old and step\n"
     ]
    },
    {
     "name": "stderr",
     "output_type": "stream",
     "text": [
      "\r",
      " 12%|█████████                                                                      | 231/2000 [00:11<01:19, 22.39it/s]"
     ]
    },
    {
     "name": "stdout",
     "output_type": "stream",
     "text": [
      "p_new < p_old and dont step\n",
      "p_new < p_old and step\n",
      "p_new < p_old and dont step\n"
     ]
    },
    {
     "name": "stderr",
     "output_type": "stream",
     "text": [
      " 12%|█████████▎                                                                     | 237/2000 [00:11<01:21, 21.68it/s]"
     ]
    },
    {
     "name": "stdout",
     "output_type": "stream",
     "text": [
      "p_new < p_old and step\n",
      "p_new < p_old and dont step\n",
      "p_new < p_old and step\n"
     ]
    },
    {
     "name": "stderr",
     "output_type": "stream",
     "text": [
      "\r",
      " 12%|█████████▍                                                                     | 240/2000 [00:11<01:27, 20.20it/s]"
     ]
    },
    {
     "name": "stdout",
     "output_type": "stream",
     "text": [
      "p_new < p_old and dont step\n",
      "p_new < p_old and step\n",
      "p_new < p_old and dont step\n"
     ]
    },
    {
     "name": "stderr",
     "output_type": "stream",
     "text": [
      " 12%|█████████▋                                                                     | 246/2000 [00:11<01:29, 19.50it/s]"
     ]
    },
    {
     "name": "stdout",
     "output_type": "stream",
     "text": [
      "p_new < p_old and step\n"
     ]
    },
    {
     "name": "stderr",
     "output_type": "stream",
     "text": [
      "\r",
      " 12%|█████████▊                                                                     | 249/2000 [00:12<01:23, 20.94it/s]"
     ]
    },
    {
     "name": "stdout",
     "output_type": "stream",
     "text": [
      "p_new < p_old and dont step\n",
      "p_new < p_old and step\n",
      "p_new < p_old and dont step\n",
      "p_new < p_old and step\n"
     ]
    },
    {
     "name": "stderr",
     "output_type": "stream",
     "text": [
      " 13%|██████████                                                                     | 255/2000 [00:12<01:26, 20.27it/s]"
     ]
    },
    {
     "name": "stdout",
     "output_type": "stream",
     "text": [
      "p_new < p_old and dont step\n",
      "p_new < p_old and step\n",
      "p_new < p_old and dont step\n"
     ]
    },
    {
     "name": "stderr",
     "output_type": "stream",
     "text": [
      "\r",
      " 13%|██████████▏                                                                    | 258/2000 [00:12<01:23, 20.97it/s]"
     ]
    },
    {
     "name": "stdout",
     "output_type": "stream",
     "text": [
      "p_new < p_old and step\n",
      "p_new < p_old and dont step\n",
      "p_new < p_old and step\n"
     ]
    },
    {
     "name": "stderr",
     "output_type": "stream",
     "text": [
      " 13%|██████████▍                                                                    | 264/2000 [00:12<01:23, 20.76it/s]"
     ]
    },
    {
     "name": "stdout",
     "output_type": "stream",
     "text": [
      "p_new < p_old and dont step\n",
      "p_new < p_old and step\n",
      "p_new < p_old and dont step\n",
      "p_new < p_old and step\n"
     ]
    },
    {
     "name": "stderr",
     "output_type": "stream",
     "text": [
      " 13%|██████████▋                                                                    | 269/2000 [00:13<01:32, 18.77it/s]"
     ]
    },
    {
     "name": "stdout",
     "output_type": "stream",
     "text": [
      "p_new < p_old and dont step\n",
      "p_new < p_old and step\n",
      "p_new < p_old and dont step\n"
     ]
    },
    {
     "name": "stderr",
     "output_type": "stream",
     "text": [
      "\r",
      " 14%|██████████▋                                                                    | 271/2000 [00:13<01:36, 18.00it/s]"
     ]
    },
    {
     "name": "stdout",
     "output_type": "stream",
     "text": [
      "p_new < p_old and step\n",
      "p_new < p_old and dont step\n",
      "p_new < p_old and step\n"
     ]
    },
    {
     "name": "stderr",
     "output_type": "stream",
     "text": [
      " 14%|██████████▉                                                                    | 277/2000 [00:13<01:30, 18.99it/s]"
     ]
    },
    {
     "name": "stdout",
     "output_type": "stream",
     "text": [
      "p_new < p_old and dont step\n",
      "p_new < p_old and step\n"
     ]
    },
    {
     "name": "stderr",
     "output_type": "stream",
     "text": [
      " 14%|███████████▏                                                                   | 282/2000 [00:13<01:32, 18.52it/s]"
     ]
    },
    {
     "name": "stdout",
     "output_type": "stream",
     "text": [
      "p_new < p_old and dont step\n",
      "p_new < p_old and step\n",
      "p_new < p_old and dont step\n"
     ]
    },
    {
     "name": "stderr",
     "output_type": "stream",
     "text": [
      " 14%|███████████▎                                                                   | 287/2000 [00:14<01:23, 20.56it/s]"
     ]
    },
    {
     "name": "stdout",
     "output_type": "stream",
     "text": [
      "p_new < p_old and step\n",
      "p_new < p_old and dont step\n",
      "p_new < p_old and step\n"
     ]
    },
    {
     "name": "stderr",
     "output_type": "stream",
     "text": [
      " 15%|███████████▌                                                                   | 293/2000 [00:14<01:15, 22.51it/s]"
     ]
    },
    {
     "name": "stdout",
     "output_type": "stream",
     "text": [
      "p_new < p_old and dont step\n",
      "p_new < p_old and step\n",
      "p_new < p_old and dont step\n",
      "p_new < p_old and step\n"
     ]
    },
    {
     "name": "stderr",
     "output_type": "stream",
     "text": [
      " 15%|███████████▊                                                                   | 300/2000 [00:14<01:08, 24.73it/s]"
     ]
    },
    {
     "name": "stdout",
     "output_type": "stream",
     "text": [
      "p_new < p_old and dont step\n",
      "p_new < p_old and step\n",
      "p_new < p_old and dont step\n",
      "p_new < p_old and step\n"
     ]
    },
    {
     "name": "stderr",
     "output_type": "stream",
     "text": [
      " 15%|████████████                                                                   | 306/2000 [00:14<01:09, 24.45it/s]"
     ]
    },
    {
     "name": "stdout",
     "output_type": "stream",
     "text": [
      "p_new < p_old and dont step\n",
      "p_new < p_old and step\n",
      "p_new < p_old and dont step\n",
      "p_new < p_old and step\n",
      "p_new < p_old and dont step\n"
     ]
    },
    {
     "name": "stderr",
     "output_type": "stream",
     "text": [
      "\r",
      " 15%|████████████▏                                                                  | 309/2000 [00:14<01:09, 24.33it/s]"
     ]
    },
    {
     "name": "stdout",
     "output_type": "stream",
     "text": [
      "p_new < p_old and step\n",
      "p_new < p_old and dont step\n",
      "p_new < p_old and step\n"
     ]
    },
    {
     "name": "stderr",
     "output_type": "stream",
     "text": [
      " 16%|████████████▌                                                                  | 318/2000 [00:15<01:19, 21.28it/s]"
     ]
    },
    {
     "name": "stdout",
     "output_type": "stream",
     "text": [
      "p_new < p_old and dont step\n",
      "p_new < p_old and step\n",
      "p_new < p_old and dont step\n"
     ]
    },
    {
     "name": "stderr",
     "output_type": "stream",
     "text": [
      "\r",
      " 16%|████████████▋                                                                  | 321/2000 [00:15<01:27, 19.25it/s]"
     ]
    },
    {
     "name": "stdout",
     "output_type": "stream",
     "text": [
      "p_new < p_old and step\n",
      "p_new < p_old and dont step\n",
      "p_new < p_old and step\n"
     ]
    },
    {
     "name": "stderr",
     "output_type": "stream",
     "text": [
      " 16%|████████████▉                                                                  | 327/2000 [00:15<01:21, 20.48it/s]"
     ]
    },
    {
     "name": "stdout",
     "output_type": "stream",
     "text": [
      "p_new < p_old and dont step\n",
      "p_new < p_old and step\n",
      "p_new < p_old and dont step\n",
      "p_new < p_old and step\n"
     ]
    },
    {
     "name": "stderr",
     "output_type": "stream",
     "text": [
      " 17%|█████████████▏                                                                 | 333/2000 [00:16<01:19, 20.85it/s]"
     ]
    },
    {
     "name": "stdout",
     "output_type": "stream",
     "text": [
      "p_new < p_old and dont step\n",
      "p_new < p_old and step\n",
      "p_new < p_old and dont step\n",
      "p_new < p_old and step\n"
     ]
    },
    {
     "name": "stderr",
     "output_type": "stream",
     "text": [
      "\r",
      " 17%|█████████████▎                                                                 | 336/2000 [00:16<01:15, 22.10it/s]"
     ]
    },
    {
     "name": "stdout",
     "output_type": "stream",
     "text": [
      "p_new < p_old and dont step\n",
      "p_new < p_old and step\n",
      "p_new < p_old and dont step\n",
      "p_new < p_old and step\n"
     ]
    },
    {
     "name": "stderr",
     "output_type": "stream",
     "text": [
      " 17%|█████████████▌                                                                 | 343/2000 [00:16<01:06, 24.87it/s]"
     ]
    },
    {
     "name": "stdout",
     "output_type": "stream",
     "text": [
      "p_new < p_old and dont step\n",
      "p_new < p_old and step\n",
      "p_new < p_old and dont step\n",
      "p_new < p_old and step\n"
     ]
    },
    {
     "name": "stderr",
     "output_type": "stream",
     "text": [
      " 18%|█████████████▉                                                                 | 352/2000 [00:16<01:01, 26.67it/s]"
     ]
    },
    {
     "name": "stdout",
     "output_type": "stream",
     "text": [
      "p_new < p_old and dont step\n",
      "p_new < p_old and step\n",
      "p_new < p_old and dont step\n",
      "p_new < p_old and step\n",
      "p_new < p_old and dont step\n",
      "p_new < p_old and step\n"
     ]
    },
    {
     "name": "stderr",
     "output_type": "stream",
     "text": [
      " 18%|██████████████▏                                                                | 358/2000 [00:17<01:07, 24.25it/s]"
     ]
    },
    {
     "name": "stdout",
     "output_type": "stream",
     "text": [
      "p_new < p_old and dont step\n",
      "p_new < p_old and step\n",
      "p_new < p_old and dont step\n",
      "p_new < p_old and step\n"
     ]
    },
    {
     "name": "stderr",
     "output_type": "stream",
     "text": [
      "\r",
      " 18%|██████████████▎                                                                | 361/2000 [00:17<01:12, 22.67it/s]"
     ]
    },
    {
     "name": "stdout",
     "output_type": "stream",
     "text": [
      "p_new < p_old and dont step\n",
      "p_new < p_old and step\n",
      "p_new < p_old and dont step\n",
      "p_new < p_old and step\n"
     ]
    },
    {
     "name": "stderr",
     "output_type": "stream",
     "text": [
      " 18%|██████████████▍                                                                | 367/2000 [00:17<01:25, 19.01it/s]"
     ]
    },
    {
     "name": "stdout",
     "output_type": "stream",
     "text": [
      "p_new < p_old and dont step\n",
      "p_new < p_old and step\n"
     ]
    },
    {
     "name": "stderr",
     "output_type": "stream",
     "text": [
      " 19%|██████████████▋                                                                | 371/2000 [00:17<01:25, 18.96it/s]"
     ]
    },
    {
     "name": "stdout",
     "output_type": "stream",
     "text": [
      "p_new < p_old and dont step\n",
      "p_new < p_old and step\n",
      "p_new < p_old and dont step\n",
      "p_new < p_old and step\n"
     ]
    },
    {
     "name": "stderr",
     "output_type": "stream",
     "text": [
      " 19%|██████████████▉                                                                | 377/2000 [00:18<01:17, 20.95it/s]"
     ]
    },
    {
     "name": "stdout",
     "output_type": "stream",
     "text": [
      "p_new < p_old and dont step\n",
      "p_new < p_old and step\n",
      "p_new < p_old and dont step\n",
      "p_new < p_old and step\n"
     ]
    },
    {
     "name": "stderr",
     "output_type": "stream",
     "text": [
      "\r",
      " 19%|███████████████                                                                | 380/2000 [00:18<01:14, 21.60it/s]"
     ]
    },
    {
     "name": "stdout",
     "output_type": "stream",
     "text": [
      "p_new < p_old and dont step\n",
      "p_new < p_old and step\n",
      "p_new < p_old and dont step\n",
      "p_new < p_old and step\n"
     ]
    },
    {
     "name": "stderr",
     "output_type": "stream",
     "text": [
      " 19%|███████████████▏                                                               | 386/2000 [00:18<01:16, 21.02it/s]"
     ]
    },
    {
     "name": "stdout",
     "output_type": "stream",
     "text": [
      "p_new < p_old and dont step\n",
      "p_new < p_old and step\n",
      "p_new < p_old and dont step\n",
      "p_new < p_old and step\n"
     ]
    },
    {
     "name": "stderr",
     "output_type": "stream",
     "text": [
      " 20%|███████████████▍                                                               | 392/2000 [00:18<01:12, 22.28it/s]"
     ]
    },
    {
     "name": "stdout",
     "output_type": "stream",
     "text": [
      "p_new < p_old and dont step\n",
      "p_new < p_old and step\n",
      "p_new < p_old and dont step\n",
      "p_new < p_old and step\n"
     ]
    },
    {
     "name": "stderr",
     "output_type": "stream",
     "text": [
      " 20%|███████████████▊                                                               | 401/2000 [00:19<01:09, 23.09it/s]"
     ]
    },
    {
     "name": "stdout",
     "output_type": "stream",
     "text": [
      "p_new < p_old and dont step\n",
      "p_new < p_old and step\n",
      "p_new < p_old and dont step\n",
      "p_new < p_old and step\n"
     ]
    },
    {
     "name": "stderr",
     "output_type": "stream",
     "text": [
      " 20%|███████████████▉                                                               | 403/2000 [00:19<01:16, 20.98it/s]\n"
     ]
    },
    {
     "ename": "KeyboardInterrupt",
     "evalue": "",
     "output_type": "error",
     "traceback": [
      "\u001b[1;31m---------------------------------------------------------------------------\u001b[0m",
      "\u001b[1;31mKeyboardInterrupt\u001b[0m                         Traceback (most recent call last)",
      "\u001b[1;32m<ipython-input-66-9c36140f6997>\u001b[0m in \u001b[0;36m<module>\u001b[1;34m()\u001b[0m\n\u001b[0;32m      3\u001b[0m \u001b[0mimgs\u001b[0m\u001b[1;33m.\u001b[0m\u001b[0mrequires_grad_\u001b[0m\u001b[1;33m(\u001b[0m\u001b[1;32mTrue\u001b[0m\u001b[1;33m)\u001b[0m\u001b[1;33m\u001b[0m\u001b[1;33m\u001b[0m\u001b[0m\n\u001b[0;32m      4\u001b[0m \u001b[1;33m\u001b[0m\u001b[0m\n\u001b[1;32m----> 5\u001b[1;33m \u001b[0mimgs_ret3\u001b[0m \u001b[1;33m=\u001b[0m \u001b[0mmnist_mala\u001b[0m\u001b[1;33m(\u001b[0m\u001b[0mimgs\u001b[0m\u001b[1;33m,\u001b[0m \u001b[0mK\u001b[0m\u001b[1;33m=\u001b[0m\u001b[1;36m2000\u001b[0m\u001b[1;33m,\u001b[0m \u001b[0mfactored_epsilon\u001b[0m \u001b[1;33m=\u001b[0m \u001b[1;36m2\u001b[0m\u001b[1;33m/\u001b[0m\u001b[1;36m256\u001b[0m\u001b[1;33m)\u001b[0m\u001b[1;33m\u001b[0m\u001b[1;33m\u001b[0m\u001b[0m\n\u001b[0m",
      "\u001b[1;32m<ipython-input-62-13a698265e40>\u001b[0m in \u001b[0;36mmnist_mala\u001b[1;34m(imgs, K, factored_epsilon)\u001b[0m\n\u001b[0;32m      5\u001b[0m \u001b[1;33m\u001b[0m\u001b[0m\n\u001b[0;32m      6\u001b[0m     \u001b[1;32mfor\u001b[0m \u001b[0mk\u001b[0m \u001b[1;32min\u001b[0m \u001b[0mtqdm\u001b[0m\u001b[1;33m.\u001b[0m\u001b[0mtqdm\u001b[0m\u001b[1;33m(\u001b[0m\u001b[0mrange\u001b[0m\u001b[1;33m(\u001b[0m\u001b[0mK\u001b[0m\u001b[1;33m)\u001b[0m\u001b[1;33m)\u001b[0m\u001b[1;33m:\u001b[0m\u001b[1;33m\u001b[0m\u001b[1;33m\u001b[0m\u001b[0m\n\u001b[1;32m----> 7\u001b[1;33m         \u001b[0mcurr_energy\u001b[0m \u001b[1;33m=\u001b[0m \u001b[0mebm\u001b[0m\u001b[1;33m(\u001b[0m\u001b[0mimgs\u001b[0m\u001b[1;33m)\u001b[0m \u001b[1;31m# 30x1x28x28\u001b[0m\u001b[1;33m\u001b[0m\u001b[1;33m\u001b[0m\u001b[0m\n\u001b[0m\u001b[0;32m      8\u001b[0m         \u001b[0mcurr_energy\u001b[0m \u001b[1;33m=\u001b[0m \u001b[0mcurr_energy\u001b[0m\u001b[1;33m.\u001b[0m\u001b[0msum\u001b[0m\u001b[1;33m(\u001b[0m\u001b[1;33m)\u001b[0m\u001b[1;33m\u001b[0m\u001b[1;33m\u001b[0m\u001b[0m\n\u001b[0;32m      9\u001b[0m         \u001b[0mcurr_grad\u001b[0m \u001b[1;33m=\u001b[0m \u001b[0mtorch\u001b[0m\u001b[1;33m.\u001b[0m\u001b[0mautograd\u001b[0m\u001b[1;33m.\u001b[0m\u001b[0mgrad\u001b[0m\u001b[1;33m(\u001b[0m\u001b[0mcurr_energy\u001b[0m\u001b[1;33m,\u001b[0m \u001b[0mimgs\u001b[0m\u001b[1;33m)\u001b[0m\u001b[1;33m[\u001b[0m\u001b[1;36m0\u001b[0m\u001b[1;33m]\u001b[0m\u001b[1;33m\u001b[0m\u001b[1;33m\u001b[0m\u001b[0m\n",
      "\u001b[1;32mC:\\Users\\neria\\anaconda3\\envs\\deep_learn\\lib\\site-packages\\torch\\nn\\modules\\module.py\u001b[0m in \u001b[0;36m_call_impl\u001b[1;34m(self, *input, **kwargs)\u001b[0m\n\u001b[0;32m   1049\u001b[0m         if not (self._backward_hooks or self._forward_hooks or self._forward_pre_hooks or _global_backward_hooks\n\u001b[0;32m   1050\u001b[0m                 or _global_forward_hooks or _global_forward_pre_hooks):\n\u001b[1;32m-> 1051\u001b[1;33m             \u001b[1;32mreturn\u001b[0m \u001b[0mforward_call\u001b[0m\u001b[1;33m(\u001b[0m\u001b[1;33m*\u001b[0m\u001b[0minput\u001b[0m\u001b[1;33m,\u001b[0m \u001b[1;33m**\u001b[0m\u001b[0mkwargs\u001b[0m\u001b[1;33m)\u001b[0m\u001b[1;33m\u001b[0m\u001b[1;33m\u001b[0m\u001b[0m\n\u001b[0m\u001b[0;32m   1052\u001b[0m         \u001b[1;31m# Do not call functions when jit is used\u001b[0m\u001b[1;33m\u001b[0m\u001b[1;33m\u001b[0m\u001b[1;33m\u001b[0m\u001b[0m\n\u001b[0;32m   1053\u001b[0m         \u001b[0mfull_backward_hooks\u001b[0m\u001b[1;33m,\u001b[0m \u001b[0mnon_full_backward_hooks\u001b[0m \u001b[1;33m=\u001b[0m \u001b[1;33m[\u001b[0m\u001b[1;33m]\u001b[0m\u001b[1;33m,\u001b[0m \u001b[1;33m[\u001b[0m\u001b[1;33m]\u001b[0m\u001b[1;33m\u001b[0m\u001b[1;33m\u001b[0m\u001b[0m\n",
      "\u001b[1;32m<ipython-input-15-77d28ef26be5>\u001b[0m in \u001b[0;36mforward\u001b[1;34m(self, x)\u001b[0m\n\u001b[0;32m     64\u001b[0m                 \u001b[0mx\u001b[0m \u001b[1;33m=\u001b[0m \u001b[0mtorch\u001b[0m\u001b[1;33m.\u001b[0m\u001b[0mnn\u001b[0m\u001b[1;33m.\u001b[0m\u001b[0mfunctional\u001b[0m\u001b[1;33m.\u001b[0m\u001b[0mleaky_relu\u001b[0m\u001b[1;33m(\u001b[0m\u001b[0mx\u001b[0m\u001b[1;33m,\u001b[0m \u001b[1;36m0.2\u001b[0m\u001b[1;33m)\u001b[0m\u001b[1;33m\u001b[0m\u001b[1;33m\u001b[0m\u001b[0m\n\u001b[0;32m     65\u001b[0m                 \u001b[0mx\u001b[0m \u001b[1;33m=\u001b[0m \u001b[0mres_block\u001b[0m\u001b[1;33m[\u001b[0m\u001b[1;34m'conv_1'\u001b[0m\u001b[1;33m]\u001b[0m\u001b[1;33m(\u001b[0m\u001b[0mx\u001b[0m\u001b[1;33m)\u001b[0m\u001b[1;33m\u001b[0m\u001b[1;33m\u001b[0m\u001b[0m\n\u001b[1;32m---> 66\u001b[1;33m                 \u001b[0mx\u001b[0m \u001b[1;33m=\u001b[0m \u001b[0mtorch\u001b[0m\u001b[1;33m.\u001b[0m\u001b[0mnn\u001b[0m\u001b[1;33m.\u001b[0m\u001b[0mfunctional\u001b[0m\u001b[1;33m.\u001b[0m\u001b[0mleaky_relu\u001b[0m\u001b[1;33m(\u001b[0m\u001b[0mx\u001b[0m\u001b[1;33m,\u001b[0m \u001b[1;36m0.2\u001b[0m\u001b[1;33m)\u001b[0m\u001b[1;33m\u001b[0m\u001b[1;33m\u001b[0m\u001b[0m\n\u001b[0m\u001b[0;32m     67\u001b[0m                 \u001b[0mx\u001b[0m \u001b[1;33m=\u001b[0m \u001b[0mres_block\u001b[0m\u001b[1;33m[\u001b[0m\u001b[1;34m'conv_2'\u001b[0m\u001b[1;33m]\u001b[0m\u001b[1;33m(\u001b[0m\u001b[0mx\u001b[0m\u001b[1;33m)\u001b[0m\u001b[1;33m\u001b[0m\u001b[1;33m\u001b[0m\u001b[0m\n\u001b[0;32m     68\u001b[0m                 \u001b[1;32mif\u001b[0m \u001b[1;34m'shortcut_conv'\u001b[0m \u001b[1;32min\u001b[0m \u001b[0mres_block\u001b[0m\u001b[1;33m:\u001b[0m\u001b[1;33m\u001b[0m\u001b[1;33m\u001b[0m\u001b[0m\n",
      "\u001b[1;32mC:\\Users\\neria\\anaconda3\\envs\\deep_learn\\lib\\site-packages\\torch\\nn\\functional.py\u001b[0m in \u001b[0;36mleaky_relu\u001b[1;34m(input, negative_slope, inplace)\u001b[0m\n\u001b[0;32m   1472\u001b[0m         \u001b[0mresult\u001b[0m \u001b[1;33m=\u001b[0m \u001b[0mtorch\u001b[0m\u001b[1;33m.\u001b[0m\u001b[0m_C\u001b[0m\u001b[1;33m.\u001b[0m\u001b[0m_nn\u001b[0m\u001b[1;33m.\u001b[0m\u001b[0mleaky_relu_\u001b[0m\u001b[1;33m(\u001b[0m\u001b[0minput\u001b[0m\u001b[1;33m,\u001b[0m \u001b[0mnegative_slope\u001b[0m\u001b[1;33m)\u001b[0m\u001b[1;33m\u001b[0m\u001b[1;33m\u001b[0m\u001b[0m\n\u001b[0;32m   1473\u001b[0m     \u001b[1;32melse\u001b[0m\u001b[1;33m:\u001b[0m\u001b[1;33m\u001b[0m\u001b[1;33m\u001b[0m\u001b[0m\n\u001b[1;32m-> 1474\u001b[1;33m         \u001b[0mresult\u001b[0m \u001b[1;33m=\u001b[0m \u001b[0mtorch\u001b[0m\u001b[1;33m.\u001b[0m\u001b[0m_C\u001b[0m\u001b[1;33m.\u001b[0m\u001b[0m_nn\u001b[0m\u001b[1;33m.\u001b[0m\u001b[0mleaky_relu\u001b[0m\u001b[1;33m(\u001b[0m\u001b[0minput\u001b[0m\u001b[1;33m,\u001b[0m \u001b[0mnegative_slope\u001b[0m\u001b[1;33m)\u001b[0m\u001b[1;33m\u001b[0m\u001b[1;33m\u001b[0m\u001b[0m\n\u001b[0m\u001b[0;32m   1475\u001b[0m     \u001b[1;32mreturn\u001b[0m \u001b[0mresult\u001b[0m\u001b[1;33m\u001b[0m\u001b[1;33m\u001b[0m\u001b[0m\n\u001b[0;32m   1476\u001b[0m \u001b[1;33m\u001b[0m\u001b[0m\n",
      "\u001b[1;31mKeyboardInterrupt\u001b[0m: "
     ]
    }
   ],
   "source": [
    "n_imgs = 30\n",
    "imgs = torch.rand((n_imgs, 1, 28, 28), device=device)\n",
    "imgs.requires_grad_(True)\n",
    "\n",
    "imgs_ret3 = mnist_mala(imgs, K=2000, factored_epsilon = 2/256)"
   ]
  },
  {
   "cell_type": "code",
   "execution_count": 43,
   "metadata": {
    "id": "7DaooJWmuOld"
   },
   "outputs": [
    {
     "data": {
      "text/plain": [
       "<matplotlib.image.AxesImage at 0x188c6728898>"
      ]
     },
     "execution_count": 43,
     "metadata": {},
     "output_type": "execute_result"
    },
    {
     "data": {
      "image/png": "[encoded data removed]",
      "text/plain": [
       "<Figure size 432x288 with 1 Axes>"
      ]
     },
     "metadata": {
      "needs_background": "light"
     },
     "output_type": "display_data"
    }
   ],
   "source": [
    "idx = np.random.choice(30)\n",
    "plt.imshow(to_np(imgs_ret3[idx][0]), cmap='gray')"
   ]
  },
  {
   "cell_type": "markdown",
   "metadata": {
    "id": "aroPDMPsuOld"
   },
   "source": [
    "<img src=\"https://img.icons8.com/offices/80/000000/making-notes.png\" style=\"height:30px;display:inline\\\">**<span style=\"color:red\">Task 9</span>**. Apply the MALA algorithm for $K=2000$ iterations, with $\\sqrt{2\\varepsilon}=\\frac{3}{256}$. Present the final samples and discuss the results."
   ]
  },
  {
   "cell_type": "code",
   "execution_count": null,
   "metadata": {
    "id": "YAt2Op51uOle"
   },
   "outputs": [],
   "source": [
    "n_imgs = 30\n",
    "imgs = torch.rand((n_imgs, 1, 28, 28), device=device)\n",
    "imgs.requires_grad_(True)\n",
    "\n",
    "imgs_ret4 = mnist_mala(imgs, K=2000, factored_epsilon = 3/256)"
   ]
  },
  {
   "cell_type": "code",
   "execution_count": null,
   "metadata": {},
   "outputs": [],
   "source": [
    "idx = np.random.choice(30)\n",
    "plt.imshow(to_np(imgs_ret4[idx][0]), cmap='gray')"
   ]
  },
  {
   "cell_type": "markdown",
   "metadata": {
    "id": "9B2S8ZGXuOle"
   },
   "source": [
    "<img src=\"https://img.icons8.com/offices/80/000000/making-notes.png\" style=\"height:30px;display:inline\\\">**<span style=\"color:red\">Task 10</span>**. Apply the MALA algorithm for $K=20,000$ iterations (it might take a few minutes), with $\\sqrt{2\\varepsilon}=\\frac{3}{256}$. **Instead of random initialization**, run Langevin dynamics as in Part II with $\\sqrt{2\\varepsilon}=\\frac{2}{256}$ for $K=500$ iterations and use these images as your initialization for the MALA algorithm. Present the final samples and examples for samples in intermediate iterations. Discuss the results."
   ]
  },
  {
   "cell_type": "code",
   "execution_count": 71,
   "metadata": {
    "id": "gWoCuvTpuOle"
   },
   "outputs": [
    {
     "name": "stderr",
     "output_type": "stream",
     "text": [
      "100%|████████████████████████████████████████████████████████████████████████████████| 500/500 [00:16<00:00, 29.49it/s]\n",
      "100%|████████████████████████████████████████████████████████████████████████████| 20000/20000 [17:13<00:00, 19.35it/s]\n"
     ]
    }
   ],
   "source": [
    "n_imgs = 30\n",
    "imgs = torch.rand((n_imgs, 1, 28, 28), device=device)\n",
    "imgs.requires_grad_(True)\n",
    "imgs_ret5 = mnist_langevin(imgs=imgs, K=500, factored_epsilon=2/256)\n",
    "\n",
    "imgs_ret6 = mnist_mala(imgs_ret5, K=20_000, factored_epsilon = 3/256)"
   ]
  },
  {
   "cell_type": "code",
   "execution_count": 75,
   "metadata": {},
   "outputs": [
    {
     "data": {
      "text/plain": [
       "<matplotlib.image.AxesImage at 0x188a6d32588>"
      ]
     },
     "execution_count": 75,
     "metadata": {},
     "output_type": "execute_result"
    },
    {
     "data": {
      "image/png": "[encoded data removed]",
      "text/plain": [
       "<Figure size 432x288 with 1 Axes>"
      ]
     },
     "metadata": {
      "needs_background": "light"
     },
     "output_type": "display_data"
    }
   ],
   "source": [
    "idx = np.random.choice(30)\n",
    "plt.imshow(to_np(imgs_ret5[idx][0]), cmap='gray')"
   ]
  },
  {
   "cell_type": "code",
   "execution_count": 174,
   "metadata": {},
   "outputs": [
    {
     "data": {
      "text/plain": [
       "<matplotlib.image.AxesImage at 0x18931d30208>"
      ]
     },
     "execution_count": 174,
     "metadata": {},
     "output_type": "execute_result"
    },
    {
     "data": {
      "image/png": "[encoded data removed]",
      "text/plain": [
       "<Figure size 432x288 with 1 Axes>"
      ]
     },
     "metadata": {
      "needs_background": "light"
     },
     "output_type": "display_data"
    }
   ],
   "source": [
    "idx = np.random.choice(30)\n",
    "plt.imshow(to_np(imgs_ret6[idx][0]), cmap='gray')"
   ]
  },
  {
   "cell_type": "markdown",
   "metadata": {
    "id": "joP3VLRvuOle"
   },
   "source": [
    "## Part IV: Perceptual and MMSE Denoising (30 points) "
   ]
  },
  {
   "cell_type": "markdown",
   "metadata": {
    "id": "nGvlZkniuOlf"
   },
   "source": [
    "Given a noisy image $y = x + n$, where $x$ is a clean image and $n \\sim \\mathcal{N}(0, \\sigma^2I)$, we would like to estimate $x$ using Langevin Dynamics and the EBM model trained to estimate $p(x)$. We will perform denoising by drawing samples from $p(x|y)$.\n",
    "\n",
    "<img src=\"https://img.icons8.com/offices/80/000000/making-notes.png\" style=\"height:30px;display:inline\\\">**<span style=\"color:red\">Task 11</span>**. Write an explicit expression for $\\nabla_x\\log p(x|y)$ in terms of $p_x(x)$ and $p_n(n)$.\n"
   ]
  },
  {
   "cell_type": "markdown",
   "metadata": {
    "id": "QYStt3oEuOlf"
   },
   "source": [
    "$$ P(x|y)=\\frac{1}{|2\\pi \\sigma^2 I|^{-1/2}}e^{-\\frac{1}{2}\\cdot(x-y)^{T}(\\sigma^2I)^{-1}(x-y)} = \\frac{1}{|2\\pi\\sigma^2|^{-d/2}}e^{-\\frac{1}{2\\sigma^2}\\cdot\\|x-y\\|^2} $$\n",
    "$$ \\nabla_{x}\\log P(x|y)=\t\\nabla_{x}\\log(\\frac{1}{|2\\pi\\sigma^2|^{-d/2}}e^{-\\frac{1}{2\\sigma^2}\\cdot\\|x-y\\|^{2}})\n",
    "=\t\\nabla_{x}\\left(-\\log(|2\\pi\\sigma^2|^{-d/2})-\\frac{1}{2\\sigma^2}\\cdot\\|x-y\\|^{2}\\right)\n",
    "=\t\\frac{y-x}{\\sigma^2} $$"
   ]
  },
  {
   "cell_type": "markdown",
   "metadata": {
    "id": "IxxN6ZiouOlf"
   },
   "source": [
    "\n",
    "<img src=\"https://img.icons8.com/offices/80/000000/making-notes.png\" style=\"height:30px;display:inline\\\">**<span style=\"color:red\">Task 12</span>**. How should the update step in Langevin Dynamics (Part II) be changed in order to draw samples from $p(x|y)$ instead of $p(x)$? We call such samples *perceptual* denoising results.\n",
    "\n"
   ]
  },
  {
   "cell_type": "markdown",
   "metadata": {
    "id": "spQsPKh3uOlf"
   },
   "source": [
    "For every $ Y $ we have diffrent grad instead of general formula"
   ]
  },
  {
   "cell_type": "markdown",
   "metadata": {
    "id": "Xqh3WkryuOlf"
   },
   "source": [
    "<img src=\"https://img.icons8.com/offices/80/000000/making-notes.png\" style=\"height:30px;display:inline\\\">**<span style=\"color:red\">Task 13</span>**. The attachment of this exercise includes 30 noisy digits with $\\sigma=\\left\\{\\frac{50}{256},\\frac{100}{256}\\right\\}$ (you can load the images using the command `torch.load()`). Perform perceptual denoising with Langevin Dynamics with the parameters $K=2000$ and $\\sqrt{2\\varepsilon}=\\frac{2}{256}$. Present and discuss the results.\n",
    "\n"
   ]
  },
  {
   "cell_type": "code",
   "execution_count": 91,
   "metadata": {
    "id": "Tm3Ri3-yuOlg"
   },
   "outputs": [],
   "source": [
    "noisy_digits_50 = torch.load('noisy_digits_50.pt').to(device)\n",
    "noisy_digits_100 = torch.load('noisy_digits_100.pt').to(device)"
   ]
  },
  {
   "cell_type": "code",
   "execution_count": 95,
   "metadata": {
    "id": "3bczqsSsuOlg",
    "outputId": "f38fe849-dd04-4cc4-b347-c90a238660e6"
   },
   "outputs": [
    {
     "data": {
      "text/plain": [
       "<matplotlib.image.AxesImage at 0x1892e2a9ac8>"
      ]
     },
     "execution_count": 95,
     "metadata": {},
     "output_type": "execute_result"
    },
    {
     "data": {
      "image/png": "[encoded data removed]",
      "text/plain": [
       "<Figure size 432x288 with 1 Axes>"
      ]
     },
     "metadata": {
      "needs_background": "light"
     },
     "output_type": "display_data"
    }
   ],
   "source": [
    "idx = np.random.choice(30)\n",
    "plt.imshow(to_np(noisy_digits_50[idx][0]), cmap='gray')"
   ]
  },
  {
   "cell_type": "code",
   "execution_count": 128,
   "metadata": {
    "id": "Y_Pgqsm-uOlg"
   },
   "outputs": [],
   "source": [
    "def perceptual_denoising(imgs, K=2000, factored_epsilon = 2/256, sigma=50/256):\n",
    "    x = torch.rand((n_imgs, 1, 28, 28), device=device)\n",
    "    y = torch.clone(imgs).to(device)\n",
    "    \n",
    "    epsilon = (factored_epsilon ** 2) / 2\n",
    "    for k in range(K):\n",
    "        grad = (y - x)/(sigma**2)\n",
    "        noise = torch.randn(imgs.shape).to(device)\n",
    "        x = x + epsilon * grad + factored_epsilon * noise\n",
    "        \n",
    "    return x"
   ]
  },
  {
   "cell_type": "code",
   "execution_count": 129,
   "metadata": {
    "id": "H-m2twahuOlh",
    "outputId": "b61b2448-29fb-4ae3-a1eb-e399812429ee"
   },
   "outputs": [],
   "source": [
    "x = perceptual_denoising(imgs=noisy_digits_50, K=2000, factored_epsilon=2/256, sigma=50/256)"
   ]
  },
  {
   "cell_type": "code",
   "execution_count": 130,
   "metadata": {
    "id": "4-AegU1UuOlh",
    "outputId": "cfef42a2-5486-43ac-93bf-b6c9d00dfb13"
   },
   "outputs": [
    {
     "data": {
      "image/png": "[encoded data removed]",
      "text/plain": [
       "<Figure size 432x288 with 1 Axes>"
      ]
     },
     "metadata": {
      "needs_background": "light"
     },
     "output_type": "display_data"
    },
    {
     "data": {
      "text/plain": [
       "<matplotlib.image.AxesImage at 0x1893018bcf8>"
      ]
     },
     "execution_count": 130,
     "metadata": {},
     "output_type": "execute_result"
    },
    {
     "data": {
      "image/png": "[encoded data removed]",
      "text/plain": [
       "<Figure size 432x288 with 1 Axes>"
      ]
     },
     "metadata": {
      "needs_background": "light"
     },
     "output_type": "display_data"
    }
   ],
   "source": [
    "idx = np.random.choice(30)\n",
    "plt.imshow(to_np(x[idx][0]), cmap='gray')"
   ]
  },
  {
   "cell_type": "markdown",
   "metadata": {
    "id": "EZZkjtTbuOlh"
   },
   "source": [
    "<img src=\"https://img.icons8.com/offices/80/000000/making-notes.png\" style=\"height:30px;display:inline\\\">**<span style=\"color:red\">Task 14</span>**. Minimum MSE denoising can be obtained by averaging over the perceptual denoising results, since the conditional expectation $E[x|y]$ can be approximated by averaging over samples from $p(x|y)$ (namely, $E[x|y] \\approx \\frac{1}{N}\\sum_{n=1}^N x_n$, where $\\{x_n\\}$ are samples from $p(x|y)$). Present the MMSE results averages over 10 perceptual samples. Why do you think the task of *perceptual denoising* is called that way?"
   ]
  },
  {
   "cell_type": "code",
   "execution_count": 159,
   "metadata": {
    "id": "EpCQF70WuOli"
   },
   "outputs": [],
   "source": [
    "def mmse(imgs, N=10, K=2000, factored_epsilon=2/256, sigma=50/256):\n",
    "    res = torch.zeros(imgs.shape).to(device)\n",
    "    for n in tqdm.tqdm(range(N)):\n",
    "        res += perceptual_denoising(imgs, K=K, factored_epsilon = factored_epsilon, sigma=sigma)\n",
    "    return res / N"
   ]
  },
  {
   "cell_type": "code",
   "execution_count": 168,
   "metadata": {},
   "outputs": [
    {
     "name": "stderr",
     "output_type": "stream",
     "text": [
      "100%|██████████████████████████████████████████████████████████████████████████████████| 10/10 [00:17<00:00,  1.72s/it]\n"
     ]
    }
   ],
   "source": [
    "clean = mmse(imgs=noisy_digits_100, K=5000, N=10, sigma=100/256)"
   ]
  },
  {
   "cell_type": "code",
   "execution_count": 169,
   "metadata": {},
   "outputs": [
    {
     "data": {
      "text/plain": [
       "<matplotlib.image.AxesImage at 0x18930b731d0>"
      ]
     },
     "execution_count": 169,
     "metadata": {},
     "output_type": "execute_result"
    },
    {
     "data": {
      "image/png": "[encoded data removed]",
      "text/plain": [
       "<Figure size 432x288 with 1 Axes>"
      ]
     },
     "metadata": {
      "needs_background": "light"
     },
     "output_type": "display_data"
    }
   ],
   "source": [
    "idx = np.random.choice(30)\n",
    "plt.imshow(to_np(clean[idx][0]), cmap='gray')"
   ]
  },
  {
   "cell_type": "code",
   "execution_count": 170,
   "metadata": {},
   "outputs": [
    {
     "data": {
      "text/plain": [
       "<matplotlib.image.AxesImage at 0x18930bd53c8>"
      ]
     },
     "execution_count": 170,
     "metadata": {},
     "output_type": "execute_result"
    },
    {
     "data": {
      "image/png": "[encoded data removed]",
      "text/plain": [
       "<Figure size 432x288 with 1 Axes>"
      ]
     },
     "metadata": {
      "needs_background": "light"
     },
     "output_type": "display_data"
    }
   ],
   "source": [
    "idx = np.random.choice(30)\n",
    "plt.imshow(to_np(noisy_digits_100[idx][0]), cmap='gray')"
   ]
  }
 ],
 "metadata": {
  "accelerator": "GPU",
  "colab": {
   "collapsed_sections": [],
   "name": "HW1_Spring2022_Solved_Final.ipynb",
   "provenance": []
  },
  "kernelspec": {
   "display_name": "Python 3",
   "language": "python",
   "name": "python3"
  },
  "language_info": {
   "codemirror_mode": {
    "name": "ipython",
    "version": 3
   },
   "file_extension": ".py",
   "mimetype": "text/x-python",
   "name": "python",
   "nbconvert_exporter": "python",
   "pygments_lexer": "ipython3",
   "version": "3.6.13"
  }
 },
 "nbformat": 4,
 "nbformat_minor": 1
}
